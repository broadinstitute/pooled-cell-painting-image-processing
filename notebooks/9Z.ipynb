{
 "cells": [
  {
   "cell_type": "code",
   "execution_count": 1,
   "metadata": {},
   "outputs": [],
   "source": [
    "import datetime\n",
    "import os\n",
    "\n",
    "import pandas as pd\n",
    "import seaborn as sns"
   ]
  },
  {
   "cell_type": "code",
   "execution_count": 2,
   "metadata": {},
   "outputs": [
    {
     "name": "stdout",
     "output_type": "stream",
     "text": [
      "0 Tue May  4 12:34:46 2021\n",
      "100 Tue May  4 12:36:36 2021\n",
      "100 Tue May  4 12:36:36 2021\n",
      "done concatenating at Tue May  4 12:36:36 2021\n"
     ]
    }
   ],
   "source": [
    "#set variables\n",
    "csv_location = './'\n",
    "plate = 'CP228'\n",
    "foci_filename = 'BarcodePreprocessing_Foci.csv'\n",
    "#Merge Foci csvs\n",
    "#Run if csvs are in separate folders\n",
    "folderlist = os.listdir(csv_location)\n",
    "df_dict={}\n",
    "count = 0\n",
    "print(count, datetime.datetime.ctime(datetime.datetime.now()))\n",
    "for eachfolder in folderlist:\n",
    "    if os.path.isfile(os.path.join(eachfolder, foci_filename)):\n",
    "        try:\n",
    "            df_dict[eachfolder]=pd.read_csv(os.path.join(csv_location, eachfolder, foci_filename),index_col=False,usecols=[\"Barcode_MatchedTo_Score\", \"Barcode_BarcodeCalled\",\"Barcode_MatchedTo_ID\"])\n",
    "        except:\n",
    "            pass\n",
    "        count+=1\n",
    "        if count % 100 == 0:\n",
    "            print(count, datetime.datetime.ctime(datetime.datetime.now()))\n",
    "print(count, datetime.datetime.ctime(datetime.datetime.now()))\n",
    "df_foci = pd.concat(df_dict, ignore_index=True)\n",
    "print('done concatenating at', datetime.datetime.ctime(datetime.datetime.now()))"
   ]
  },
  {
   "cell_type": "code",
   "execution_count": 3,
   "metadata": {},
   "outputs": [
    {
     "name": "stdout",
     "output_type": "stream",
     "text": [
      "For plate  CP228\n",
      "%Barcodes with match > .9:\n",
      "89.84906466449725\n",
      "%Barcodes with perfect match:\n",
      "89.84906466449725\n",
      "Number of perfect barcodes:\n",
      "1976931\n"
     ]
    }
   ],
   "source": [
    "print (\"For plate \", plate)\n",
    "print (\"%Barcodes with match > .9:\")\n",
    "print (sum(df_foci['Barcode_MatchedTo_Score']>0.9)*100.0/sum(df_foci['Barcode_MatchedTo_Score']>0))\n",
    "print (\"%Barcodes with perfect match:\")\n",
    "print (sum(df_foci['Barcode_MatchedTo_Score']==1)*100.0/sum(df_foci['Barcode_MatchedTo_Score']>0))\n",
    "print (\"Number of perfect barcodes:\")\n",
    "print (sum(df_foci['Barcode_MatchedTo_Score']==1))\n",
    "df_foci['PerfectReads']=df_foci['Barcode_MatchedTo_ID'].where(df_foci['Barcode_MatchedTo_Score']==1,0,axis='index')"
   ]
  },
  {
   "cell_type": "code",
   "execution_count": 4,
   "metadata": {},
   "outputs": [
    {
     "name": "stderr",
     "output_type": "stream",
     "text": [
      "/usr/local/lib/python3.8/site-packages/seaborn/distributions.py:2551: FutureWarning: `distplot` is a deprecated function and will be removed in a future version. Please adapt your code to use either `displot` (a figure-level function with similar flexibility) or `histplot` (an axes-level function for histograms).\n",
      "  warnings.warn(msg, FutureWarning)\n"
     ]
    },
    {
     "data": {
      "text/plain": [
       "Text(0.5, 1.0, 'CP228')"
      ]
     },
     "execution_count": 4,
     "metadata": {},
     "output_type": "execute_result"
    },
    {
     "data": {
      "image/png": "[encoded data removed]",
      "text/plain": [
       "<Figure size 432x288 with 1 Axes>"
      ]
     },
     "metadata": {
      "needs_background": "light"
     },
     "output_type": "display_data"
    }
   ],
   "source": [
    "sns.distplot(df_foci['Barcode_MatchedTo_Score'], kde=False).set_title(plate)"
   ]
  },
  {
   "cell_type": "code",
   "execution_count": 5,
   "metadata": {},
   "outputs": [
    {
     "data": {
      "text/plain": [
       "GTGCTAAGA    138432\n",
       "GCAGTGCTA    108744\n",
       "CTGTGGAGT     84248\n",
       "CAGGGGATA     75454\n",
       "TCGGGTGCC     54026\n",
       "AGAGTTAGA     52633\n",
       "GATGGATCC     49765\n",
       "ACCAACGGA     43344\n",
       "TAGCACTCA     42918\n",
       "GATCAACAT     39459\n",
       "GAAACACTT     39312\n",
       "ACCACACGG     37429\n",
       "AACGACCAC     36453\n",
       "CCGGGTTCT     36376\n",
       "AAAGTCGAA     36115\n",
       "GAAAACACT     35271\n",
       "TATCTCAAA     32410\n",
       "CCTCTACAG     32146\n",
       "CATTAGCTG     29498\n",
       "GGAGATCAG     28991\n",
       "Name: Barcode_BarcodeCalled, dtype: int64"
      ]
     },
     "execution_count": 5,
     "metadata": {},
     "output_type": "execute_result"
    }
   ],
   "source": [
    "df_foci['Barcode_BarcodeCalled'].value_counts().head(20)"
   ]
  },
  {
   "cell_type": "code",
   "execution_count": 6,
   "metadata": {},
   "outputs": [
    {
     "name": "stdout",
     "output_type": "stream",
     "text": [
      "Frequency of A is 0.28129217897520115\n",
      "Frequency of C is 0.2304316824323369\n",
      "Frequency of G is 0.2708285612134213\n",
      "Frequency of T is 0.21744757737904064\n"
     ]
    }
   ],
   "source": [
    "BarcodeCat = df_foci['Barcode_BarcodeCalled'].str.cat()\n",
    "countG = BarcodeCat.count('G')\n",
    "countT = BarcodeCat.count('T')\n",
    "countA = BarcodeCat.count('A')\n",
    "countC = BarcodeCat.count('C')\n",
    "print (\"Frequency of A is \" + str(float(countA)/float((len(BarcodeCat)))))\n",
    "print (\"Frequency of C is \" + str(float(countC)/float((len(BarcodeCat)))))\n",
    "print (\"Frequency of G is \" + str(float(countG)/float((len(BarcodeCat)))))\n",
    "print (\"Frequency of T is \" + str(float(countT)/float((len(BarcodeCat)))))"
   ]
  },
  {
   "cell_type": "code",
   "execution_count": null,
   "metadata": {},
   "outputs": [],
   "source": []
  },
  {
   "cell_type": "code",
   "execution_count": null,
   "metadata": {},
   "outputs": [],
   "source": []
  }
 ],
 "metadata": {
  "kernelspec": {
   "display_name": "Python 3",
   "language": "python",
   "name": "python3"
  },
  "language_info": {
   "codemirror_mode": {
    "name": "ipython",
    "version": 3
   },
   "file_extension": ".py",
   "mimetype": "text/x-python",
   "name": "python",
   "nbconvert_exporter": "python",
   "pygments_lexer": "ipython3",
   "version": "3.8.2"
  }
 },
 "nbformat": 4,
 "nbformat_minor": 4
}
