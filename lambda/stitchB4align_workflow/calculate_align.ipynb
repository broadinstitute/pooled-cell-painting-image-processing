{
 "cells": [
  {
   "cell_type": "code",
   "execution_count": 1,
   "metadata": {},
   "outputs": [],
   "source": [
    "import os\n",
    "import pandas as pd"
   ]
  },
  {
   "cell_type": "code",
   "execution_count": 51,
   "metadata": {},
   "outputs": [
    {
     "name": "stdout",
     "output_type": "stream",
     "text": [
      "243\n"
     ]
    }
   ],
   "source": [
    "alignment_folder = '/Users/eweisbar/Desktop/alignment/20240715_batch2/'\n",
    "subfolders = os.listdir(alignment_folder)\n",
    "df = pd.DataFrame()\n",
    "for folder in subfolders:\n",
    "    if os.path.exists(os.path.join(alignment_folder,folder,'Image.csv')):\n",
    "        file = pd.read_csv(os.path.join(alignment_folder,folder,'Image.csv'))\n",
    "        df = pd.concat([df,file])\n",
    "print (len(df))"
   ]
  },
  {
   "cell_type": "code",
   "execution_count": 52,
   "metadata": {},
   "outputs": [],
   "source": [
    "meta_cols = [x for x in df.columns if 'Metadata' in x]\n",
    "shift_cols = [x for x in df.columns if 'Align' in x and 'DAPI' in x]\n",
    "df = df[meta_cols+shift_cols].sort_values(by=meta_cols)\n",
    "df = df.loc[df['Metadata_Cycle']!=1]"
   ]
  },
  {
   "cell_type": "code",
   "execution_count": 53,
   "metadata": {},
   "outputs": [
    {
     "name": "stdout",
     "output_type": "stream",
     "text": [
      "33\n"
     ]
    },
    {
     "data": {
      "text/plain": [
       "array(['Plate56_A2_Cycle01', 'Plate56_B1_Cycle01', 'Plate67_B3_Cycle01',\n",
       "       'Plate56_A2_Cycle02', 'Plate56_B1_Cycle02', 'Plate67_B3_Cycle02',\n",
       "       'Plate56_A2_Cycle03', 'Plate56_B1_Cycle03', 'Plate67_B3_Cycle03',\n",
       "       'Plate56_A2_Cycle04', 'Plate56_B1_Cycle04', 'Plate67_B3_Cycle04',\n",
       "       'Plate56_A2_Cycle05', 'Plate56_B1_Cycle05', 'Plate67_B3_Cycle05',\n",
       "       'Plate56_A2_Cycle06', 'Plate56_B1_Cycle06', 'Plate56_A1_Cycle06',\n",
       "       'Plate67_B3_Cycle06', 'Plate56_A2_Cycle07', 'Plate56_B1_Cycle07',\n",
       "       'Plate67_B3_Cycle07', 'Plate56_A2_Cycle08', 'Plate56_B1_Cycle08',\n",
       "       'Plate56_A1_Cycle08', 'Plate67_B3_Cycle08', 'Plate56_A2_Cycle09',\n",
       "       'Plate56_B1_Cycle09', 'Plate56_A1_Cycle09', 'Plate67_B3_Cycle09',\n",
       "       'Plate56_A2_Cycle10', 'Plate56_B1_Cycle10', 'Plate67_B3_Cycle10'],\n",
       "      dtype=object)"
      ]
     },
     "execution_count": 53,
     "metadata": {},
     "output_type": "execute_result"
    }
   ],
   "source": [
    "meandf = df.groupby(['Metadata_Plate','Metadata_Cycle','Metadata_Well']).mean(numeric_only =True).reset_index()\n",
    "meandf = meandf.rename(columns={'Align_Xshift_DAPI':'Align_Xshift_DAPI_mean','Align_Yshift_DAPI':'Align_Yshift_DAPI_mean'})\n",
    "df = df.merge(meandf, on=['Metadata_Plate','Metadata_Cycle','Metadata_Well'])\n",
    "df['X_diff'] = (df['Align_Xshift_DAPI']-df['Align_Xshift_DAPI_mean']).abs()\n",
    "df['Y_diff'] = (df['Align_Yshift_DAPI']-df['Align_Yshift_DAPI_mean']).abs()\n",
    "df.loc[df['X_diff']>2, 'WARN'] = 'WARN'\n",
    "df.loc[df['Y_diff']>2, 'WARN'] = 'WARN'\n",
    "df['Plate_Well_Cycle'] = df['Metadata_Plate'] + '_' + df['Metadata_Well'] + '_' + df['Metadata_Cycle']\n",
    "print (len(df.loc[df['WARN'] =='WARN','Plate_Well_Cycle'].unique()))\n",
    "df.loc[df['WARN'] =='WARN','Plate_Well_Cycle'].unique()"
   ]
  },
  {
   "cell_type": "code",
   "execution_count": null,
   "metadata": {},
   "outputs": [],
   "source": []
  }
 ],
 "metadata": {
  "kernelspec": {
   "display_name": "run_stuff",
   "language": "python",
   "name": "python3"
  },
  "language_info": {
   "codemirror_mode": {
    "name": "ipython",
    "version": 3
   },
   "file_extension": ".py",
   "mimetype": "text/x-python",
   "name": "python",
   "nbconvert_exporter": "python",
   "pygments_lexer": "ipython3",
   "version": "3.9.15"
  }
 },
 "nbformat": 4,
 "nbformat_minor": 2
}
